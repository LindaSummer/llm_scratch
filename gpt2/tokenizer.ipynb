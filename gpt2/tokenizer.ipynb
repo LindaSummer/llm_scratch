{
 "cells": [
  {
   "cell_type": "code",
   "execution_count": 2,
   "id": "4e41b36d",
   "metadata": {},
   "outputs": [
    {
     "data": {
      "text/plain": [
       "('the-verdict.txt', <http.client.HTTPMessage at 0x7f35f44dbd90>)"
      ]
     },
     "execution_count": 2,
     "metadata": {},
     "output_type": "execute_result"
    }
   ],
   "source": [
    "import urllib.request\n",
    "url = (\"https://raw.githubusercontent.com/rasbt/\"\n",
    "\"LLMs-from-scratch/main/ch02/01_main-chapter-code/\"\n",
    "\"the-verdict.txt\")\n",
    "file_path = \"the-verdict.txt\"\n",
    "urllib.request.urlretrieve(url, file_path)"
   ]
  },
  {
   "cell_type": "code",
   "execution_count": 7,
   "id": "dc39db09",
   "metadata": {},
   "outputs": [
    {
     "name": "stdout",
     "output_type": "stream",
     "text": [
      "Number of tokens: 5145\n",
      "First 10 tokens: [40, 367, 2885, 1464, 1807, 3619, 402, 271, 10899, 2138]\n",
      "Decoded first 10 tokens: I HAD always thought Jack Gisburn rather\n"
     ]
    }
   ],
   "source": [
    "import tiktoken\n",
    "tokenizer = tiktoken.get_encoding(\"gpt2\")\n",
    "with open(\"the-verdict.txt\", \"r\") as f:\n",
    "    text = f.read()\n",
    "tokens = tokenizer.encode(text)\n",
    "print(f\"Number of tokens: {len(tokens)}\")\n",
    "print(f\"First 10 tokens: {tokens[:10]}\")\n",
    "print(f\"Decoded first 10 tokens: {tokenizer.decode(tokens[:10])}\")"
   ]
  },
  {
   "cell_type": "code",
   "execution_count": 11,
   "id": "96b8c5de",
   "metadata": {},
   "outputs": [
    {
     "name": "stdout",
     "output_type": "stream",
     "text": [
      "Batch 0:\n",
      "Input IDs shape: torch.Size([8, 128])\n",
      "Target IDs shape: torch.Size([8, 128])\n"
     ]
    },
    {
     "data": {
      "text/plain": [
       "tensor([[   40,   367,  2885,  ...,  3758,   262,  1988],\n",
       "        [  314,  2138,  1807,  ...,   340,   373,   407],\n",
       "        [  286,   616,  4286,  ...,   198,  5779, 28112],\n",
       "        ...,\n",
       "        [ 8673,    13,  1002,  ...,   262,  1781,   286],\n",
       "        [ 4150,     8,  3688,  ...,  9074,    13,   402],\n",
       "        [  257,  1178,  2745,  ...,   561,   423,   587]])"
      ]
     },
     "metadata": {},
     "output_type": "display_data"
    },
    {
     "data": {
      "text/plain": [
       "tensor([[  367,  2885,  1464,  ...,   262,  1988,   286],\n",
       "        [ 2138,  1807,   340,  ...,   373,   407,   691],\n",
       "        [  616,  4286,   705,  ...,  5779, 28112, 10197],\n",
       "        ...,\n",
       "        [   13,  1002,   340,  ...,  1781,   286,   257],\n",
       "        [    8,  3688,   284,  ...,    13,   402,   271],\n",
       "        [ 1178,  2745,     6,  ...,   423,   587,  1327]])"
      ]
     },
     "metadata": {},
     "output_type": "display_data"
    },
    {
     "name": "stdout",
     "output_type": "stream",
     "text": [
      "Batch 1:\n",
      "Input IDs shape: torch.Size([8, 128])\n",
      "Target IDs shape: torch.Size([8, 128])\n"
     ]
    },
    {
     "data": {
      "text/plain": [
       "tensor([[  271, 10899,   550,  ..., 14093,   656,   465],\n",
       "        [ 1327,   284,  5879,  ...,   616,   835,   284],\n",
       "        [ 1021,   757,   438,  ..., 29543,  2745,    11],\n",
       "        ...,\n",
       "        [  550,   587, 11191,  ...,  9343,   683,    11],\n",
       "        [  423,  4750,   326,  ...,   691, 12226,   318],\n",
       "        [  351,   281,  5585,  ...,  2087,   329,   616]])"
      ]
     },
     "metadata": {},
     "output_type": "display_data"
    },
    {
     "data": {
      "text/plain": [
       "tensor([[10899,   550,   366,  ...,   656,   465,  1021],\n",
       "        [  284,  5879,   326,  ...,   835,   284, 22489],\n",
       "        [  757,   438, 10919,  ...,  2745,    11,   314],\n",
       "        ...,\n",
       "        [  587, 11191,   416,  ...,   683,    11,   351],\n",
       "        [ 4750,   326,  9074,  ..., 12226,   318,   284],\n",
       "        [  281,  5585,   286,  ...,   329,   616, 35957]])"
      ]
     },
     "metadata": {},
     "output_type": "display_data"
    }
   ],
   "source": [
    "import torch\n",
    "from torch.utils.data import Dataset, DataLoader\n",
    "\n",
    "class GPTDataSet(Dataset):\n",
    "    def __init__(self, text, tokenizer, max_length, stride):\n",
    "        self.input_ids = []\n",
    "        self.target_ids = []\n",
    "        \n",
    "        token_ids = tokenizer.encode(text)\n",
    "        for i in range(0, len(token_ids) - max_length, stride):\n",
    "            input_chunk = token_ids[i:i+max_length]\n",
    "            target_chunk = token_ids[i+1:i+max_length+1]\n",
    "            self.input_ids.append(torch.tensor(input_chunk))\n",
    "            self.target_ids.append(torch.tensor(target_chunk))\n",
    "            \n",
    "    def __len__(self):\n",
    "        return len(self.input_ids)\n",
    "    \n",
    "    def __getitem__(self, idx):\n",
    "        return self.input_ids[idx], self.target_ids[idx]\n",
    "    \n",
    "\n",
    "def create_dataloader(text, tokenizer=tiktoken.get_encoding(\"gpt2\"), max_length=128, stride=64, batch_size=32, drop_last=True, shuffle=True, num_workers=0):\n",
    "    dataset = GPTDataSet(text, tokenizer, max_length, stride)\n",
    "    dataloader = DataLoader(dataset, batch_size=batch_size, shuffle=shuffle, drop_last=drop_last, num_workers=num_workers)\n",
    "    return dataloader\n",
    "\n",
    "dataloader = create_dataloader(text, batch_size=8, shuffle=False, num_workers=2)\n",
    "for batch_idx, (input_ids, target_ids) in enumerate(dataloader):\n",
    "    print(f\"Batch {batch_idx}:\")\n",
    "    print(f\"Input IDs shape: {input_ids.shape}\")\n",
    "    print(f\"Target IDs shape: {target_ids.shape}\")\n",
    "    display(input_ids)\n",
    "    display(target_ids)\n",
    "    if batch_idx == 1:\n",
    "        break\n",
    "    "
   ]
  },
  {
   "cell_type": "code",
   "execution_count": 13,
   "id": "33f27bea",
   "metadata": {},
   "outputs": [
    {
     "name": "stdout",
     "output_type": "stream",
     "text": [
      "Input IDs:\n"
     ]
    },
    {
     "data": {
      "text/plain": [
       "tensor([[   40,   367,  2885,  1464],\n",
       "        [ 1807,  3619,   402,   271],\n",
       "        [10899,  2138,   257,  7026],\n",
       "        [15632,   438,  2016,   257],\n",
       "        [  922,  5891,  1576,   438],\n",
       "        [  568,   340,   373,   645],\n",
       "        [ 1049,  5975,   284,   502],\n",
       "        [  284,  3285,   326,    11]])"
      ]
     },
     "metadata": {},
     "output_type": "display_data"
    },
    {
     "name": "stdout",
     "output_type": "stream",
     "text": [
      "Target IDs:\n"
     ]
    },
    {
     "data": {
      "text/plain": [
       "tensor([[  367,  2885,  1464,  1807],\n",
       "        [ 3619,   402,   271, 10899],\n",
       "        [ 2138,   257,  7026, 15632],\n",
       "        [  438,  2016,   257,   922],\n",
       "        [ 5891,  1576,   438,   568],\n",
       "        [  340,   373,   645,  1049],\n",
       "        [ 5975,   284,   502,   284],\n",
       "        [ 3285,   326,    11,   287]])"
      ]
     },
     "metadata": {},
     "output_type": "display_data"
    },
    {
     "name": "stdout",
     "output_type": "stream",
     "text": [
      "Sample 0:\n",
      "Input:  I HAD always\n",
      "Target:  HAD always thought\n",
      "Sample 1:\n",
      "Input:   thought Jack Gis\n",
      "Target:  Jack Gisburn\n",
      "Sample 2:\n",
      "Input:  burn rather a cheap\n",
      "Target:  rather a cheap genius\n",
      "Sample 3:\n",
      "Input:   genius--though a\n",
      "Target: --though a good\n",
      "Sample 4:\n",
      "Input:   good fellow enough--\n",
      "Target:  fellow enough--so\n",
      "Sample 5:\n",
      "Input:  so it was no\n",
      "Target:  it was no great\n",
      "Sample 6:\n",
      "Input:   great surprise to me\n",
      "Target:  surprise to me to\n",
      "Sample 7:\n",
      "Input:   to hear that,\n",
      "Target:  hear that, in\n"
     ]
    }
   ],
   "source": [
    "dataloader = create_dataloader(text, batch_size=8, shuffle=False, stride=4, max_length=4)\n",
    "data_iter = iter(dataloader)\n",
    "input_ids, target_ids = next(data_iter)\n",
    "print(\"Input IDs:\")\n",
    "display(input_ids)\n",
    "print(\"Target IDs:\")\n",
    "display(target_ids)\n",
    "# decode for sample\n",
    "for i in range(8):\n",
    "    print(f\"Sample {i}:\")\n",
    "    print(\"Input: \", tokenizer.decode(input_ids[i].tolist()))\n",
    "    print(\"Target:\", tokenizer.decode(target_ids[i].tolist()))"
   ]
  }
 ],
 "metadata": {
  "kernelspec": {
   "display_name": "llm",
   "language": "python",
   "name": "python3"
  },
  "language_info": {
   "codemirror_mode": {
    "name": "ipython",
    "version": 3
   },
   "file_extension": ".py",
   "mimetype": "text/x-python",
   "name": "python",
   "nbconvert_exporter": "python",
   "pygments_lexer": "ipython3",
   "version": "3.13.5"
  }
 },
 "nbformat": 4,
 "nbformat_minor": 5
}
