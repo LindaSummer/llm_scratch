{
 "cells": [
  {
   "cell_type": "code",
   "execution_count": null,
   "id": "8411b2e3",
   "metadata": {},
   "outputs": [],
   "source": [
    "import torch\n",
    "inputs = torch.tensor(\n",
    "[[0.43, 0.15, 0.89], # Your (x^1)\n",
    "[0.55, 0.87, 0.66], # journey (x^2)\n",
    "[0.57, 0.85, 0.64], # starts (x^3)\n",
    "[0.22, 0.58, 0.33], # with (x^4)\n",
    "[0.77, 0.25, 0.10], # one (x^5)\n",
    "[0.05, 0.80, 0.55]] # step (x^6)\n",
    ")"
   ]
  },
  {
   "cell_type": "code",
   "execution_count": null,
   "id": "c8db668a",
   "metadata": {},
   "outputs": [
    {
     "data": {
      "text/plain": [
       "torch.Size([6, 6])"
      ]
     },
     "metadata": {},
     "output_type": "display_data"
    },
    {
     "data": {
      "text/plain": [
       "torch.Size([6, 6])"
      ]
     },
     "metadata": {},
     "output_type": "display_data"
    },
    {
     "data": {
      "text/plain": [
       "tensor([1.0000, 1.0000, 1.0000, 1.0000, 1.0000, 1.0000])"
      ]
     },
     "metadata": {},
     "output_type": "display_data"
    },
    {
     "data": {
      "text/plain": [
       "torch.Size([6, 3])"
      ]
     },
     "metadata": {},
     "output_type": "display_data"
    },
    {
     "name": "stdout",
     "output_type": "stream",
     "text": [
      "tensor([[0.4421, 0.5931, 0.5790],\n",
      "        [0.4419, 0.6515, 0.5683],\n",
      "        [0.4431, 0.6496, 0.5671],\n",
      "        [0.4304, 0.6298, 0.5510],\n",
      "        [0.4671, 0.5910, 0.5266],\n",
      "        [0.4177, 0.6503, 0.5645]])\n"
     ]
    }
   ],
   "source": [
    "q, k, v = inputs, inputs, inputs\n",
    "\n",
    "attn_scores = q @ k.T\n",
    "\n",
    "# normalize with softmax\n",
    "attn_weight = torch.softmax(attn_scores, dim=-1)\n",
    "display(attn_scores.shape)\n",
    "display(attn_weight.shape)\n",
    "display(attn_weight.sum(dim=-1)) # check if sum to 1\n",
    "\n",
    "all_context = attn_weight @ v\n",
    "display(all_context.shape)\n",
    "print(all_context)\n",
    "\n"
   ]
  },
  {
   "cell_type": "code",
   "execution_count": null,
   "id": "a117ad9f",
   "metadata": {},
   "outputs": [
    {
     "name": "stdout",
     "output_type": "stream",
     "text": [
      "tensor([[0.2996, 0.8053],\n",
      "        [0.3061, 0.8210],\n",
      "        [0.3058, 0.8203],\n",
      "        [0.2948, 0.7939],\n",
      "        [0.2927, 0.7891],\n",
      "        [0.2990, 0.8040]])\n"
     ]
    }
   ],
   "source": [
    "import math\n",
    "torch.manual_seed(123)\n",
    "d_in = 3\n",
    "d_out = 2\n",
    "W_q = torch.nn.Parameter(torch.rand(d_in, d_out), requires_grad=False)\n",
    "W_k = torch.nn.Parameter(torch.rand(d_in, d_out), requires_grad=False)\n",
    "W_v = torch.nn.Parameter(torch.rand(d_in, d_out), requires_grad=False)\n",
    "\n",
    "q, k, v = inputs @ W_q, inputs @ W_k, inputs @ W_v\n",
    "d_k = k.shape[-1]\n",
    "attn_scores = q @ k.T\n",
    "attn_weight = torch.softmax(attn_scores / math.sqrt(d_k), dim=-1)\n",
    "z = attn_weight @ v\n",
    "print(z)"
   ]
  },
  {
   "cell_type": "code",
   "execution_count": null,
   "id": "1331f432",
   "metadata": {},
   "outputs": [],
   "source": [
    "import torch.nn as nn\n",
    "class SelfAttention_v1(nn.Module):\n",
    "    def __init__(self, d_in, d_out):\n",
    "        super().__init__()\n",
    "        self.W_q = nn.Parameter(torch.rand(d_in, d_out), requires_grad=True)\n",
    "        self.W_k = nn.Parameter(torch.rand(d_in, d_out), requires_grad=True)\n",
    "        self.W_v = nn.Parameter(torch.rand(d_in, d_out), requires_grad=True)\n",
    "        \n",
    "    def forward(self, x):\n",
    "        k = x @self.W_k\n",
    "        q = x @self.W_q\n",
    "        v = x @self.W_v\n",
    "        d_k = k.shape[-1]\n",
    "        attn_scores = q @ k.T\n",
    "        attn_weight = torch.softmax(attn_scores / math.sqrt(d_k), dim=-1)\n",
    "        z = attn_weight @ v\n",
    "        return z\n"
   ]
  },
  {
   "cell_type": "code",
   "execution_count": null,
   "id": "e22de97c",
   "metadata": {},
   "outputs": [
    {
     "name": "stdout",
     "output_type": "stream",
     "text": [
      "tensor([[0.2996, 0.8053],\n",
      "        [0.3061, 0.8210],\n",
      "        [0.3058, 0.8203],\n",
      "        [0.2948, 0.7939],\n",
      "        [0.2927, 0.7891],\n",
      "        [0.2990, 0.8040]], grad_fn=<MmBackward0>)\n"
     ]
    }
   ],
   "source": [
    "torch.manual_seed(123)\n",
    "sa_v1 = SelfAttention_v1(d_in=3, d_out=2)\n",
    "z_v1 = sa_v1(inputs)\n",
    "print(z_v1)"
   ]
  },
  {
   "cell_type": "code",
   "execution_count": null,
   "id": "175a7a5f",
   "metadata": {},
   "outputs": [],
   "source": [
    "class SelfAttention_v2(nn.Module):\n",
    "    def __init__(self, d_in, d_out, qkv_bias=False):\n",
    "        super().__init__()\n",
    "        self.W_q = nn.Linear(d_in, d_out, bias=qkv_bias)\n",
    "        self.W_k = nn.Linear(d_in, d_out, bias=qkv_bias)\n",
    "        self.W_v = nn.Linear(d_in, d_out, bias=qkv_bias)\n",
    "        \n",
    "    def forward(self, x):\n",
    "        q = self.W_q(x)\n",
    "        k = self.W_k(x)\n",
    "        v = self.W_v(x)\n",
    "        d_k = k.shape[-1]\n",
    "        scores = q @ k.T\n",
    "        weights = torch.softmax(scores / math.sqrt(d_k), dim=-1)\n",
    "        z = weights @ v\n",
    "        return z"
   ]
  },
  {
   "cell_type": "code",
   "execution_count": null,
   "id": "3e641db7",
   "metadata": {},
   "outputs": [
    {
     "name": "stdout",
     "output_type": "stream",
     "text": [
      "tensor([[-0.0739,  0.0713],\n",
      "        [-0.0748,  0.0703],\n",
      "        [-0.0749,  0.0702],\n",
      "        [-0.0760,  0.0685],\n",
      "        [-0.0763,  0.0679],\n",
      "        [-0.0754,  0.0693]], grad_fn=<MmBackward0>)\n"
     ]
    }
   ],
   "source": [
    "torch.manual_seed(789)\n",
    "sa_v2 = SelfAttention_v2(d_in=3, d_out=2)\n",
    "z_v2 = sa_v2(inputs)\n",
    "print(z_v2)"
   ]
  },
  {
   "cell_type": "code",
   "execution_count": null,
   "id": "50fc7bb2",
   "metadata": {},
   "outputs": [
    {
     "name": "stdout",
     "output_type": "stream",
     "text": [
      "tensor([[1.0000, 0.0000, 0.0000, 0.0000, 0.0000, 0.0000],\n",
      "        [0.3986, 0.6014, 0.0000, 0.0000, 0.0000, 0.0000],\n",
      "        [0.2526, 0.3791, 0.3683, 0.0000, 0.0000, 0.0000],\n",
      "        [0.2265, 0.2839, 0.2794, 0.2103, 0.0000, 0.0000],\n",
      "        [0.1952, 0.2363, 0.2331, 0.1820, 0.1534, 0.0000],\n",
      "        [0.1557, 0.2092, 0.2048, 0.1419, 0.1089, 0.1794]])\n"
     ]
    }
   ],
   "source": [
    "mask = torch.tril(torch.ones(attn_weight.shape))\n",
    "masked_attn_weight = attn_weight*mask\n",
    "normalized_masked_attn_weight = masked_attn_weight / masked_attn_weight.sum(dim=-1, keepdim=True)\n",
    "print(normalized_masked_attn_weight)"
   ]
  },
  {
   "cell_type": "code",
   "execution_count": null,
   "id": "98611ed3",
   "metadata": {},
   "outputs": [],
   "source": [
    "import torch.nn as nn\n",
    "class CausalAttention(nn.Module):\n",
    "    def __init__(self, d_in, d_out, context_length, dropout, qkv_bias=False):\n",
    "        super().__init__()\n",
    "        self.d_out = d_out\n",
    "        self.W_q = nn.Linear(d_in, d_out, bias=qkv_bias)\n",
    "        self.W_k = nn.Linear(d_in, d_out, bias=qkv_bias)\n",
    "        self.W_v = nn.Linear(d_in, d_out, bias=qkv_bias)\n",
    "        self.dropout = nn.Dropout(dropout)\n",
    "        self.register_buffer(\"mask\", torch.triu(torch.ones(context_length, context_length), diagonal=1))\n",
    "        \n",
    "    def forward(self, x):\n",
    "        batch, num_tokens, d_in = x.shape\n",
    "        q = self.W_q(x)\n",
    "        k = self.W_k(x)\n",
    "        v = self.W_v(x)\n",
    "        d_k = k.shape[-1]\n",
    "        scores = q @ k.transpose(-2, -1)\n",
    "        scores.masked_fill_(self.mask.bool()[:num_tokens, :num_tokens], float('-inf'))\n",
    "        weights = torch.softmax(scores / math.sqrt(d_k), dim=-1)\n",
    "        weights = self.dropout(weights)\n",
    "        z = weights @ v\n",
    "        return z\n",
    "    "
   ]
  },
  {
   "cell_type": "code",
   "execution_count": null,
   "id": "895320fd",
   "metadata": {},
   "outputs": [
    {
     "name": "stdout",
     "output_type": "stream",
     "text": [
      "context_vecs.shape: torch.Size([2, 6, 2])\n"
     ]
    }
   ],
   "source": [
    "torch.manual_seed(123)\n",
    "batch = torch.stack((inputs, inputs), dim=0)\n",
    "context_length = batch.shape[1]\n",
    "ca = CausalAttention(d_in, d_out, context_length, 0.0)\n",
    "context_vecs = ca(batch)\n",
    "print(\"context_vecs.shape:\", context_vecs.shape)"
   ]
  },
  {
   "cell_type": "code",
   "execution_count": null,
   "id": "915d68c8",
   "metadata": {},
   "outputs": [],
   "source": [
    "class MultiHeadAttentionWrapper(nn.Module):\n",
    "    def __init__(self, d_in, d_out, context_length, dropout=0.1, num_heads=1, qkv_bias=False):\n",
    "        super().__init__()\n",
    "        assert d_out % num_heads == 0\n",
    "        self.heads = nn.ModuleList([\n",
    "            CausalAttention(d_in, d_out // num_heads, context_length, dropout, qkv_bias) for _ in range(num_heads)\n",
    "        ])\n",
    "        \n",
    "    def forward(self, x):\n",
    "        return torch.cat([head(x) for head in self.heads], dim=-1)"
   ]
  },
  {
   "cell_type": "code",
   "execution_count": null,
   "id": "4711f440",
   "metadata": {},
   "outputs": [
    {
     "name": "stdout",
     "output_type": "stream",
     "text": [
      "tensor([[[-0.4519,  0.2216,  0.4772,  0.1063],\n",
      "         [-0.5874,  0.0058,  0.5891,  0.3257],\n",
      "         [-0.6300, -0.0632,  0.6202,  0.3860],\n",
      "         [-0.5675, -0.0843,  0.5478,  0.3589],\n",
      "         [-0.5526, -0.0981,  0.5321,  0.3428],\n",
      "         [-0.5299, -0.1081,  0.5077,  0.3493]],\n",
      "\n",
      "        [[-0.4519,  0.2216,  0.4772,  0.1063],\n",
      "         [-0.5874,  0.0058,  0.5891,  0.3257],\n",
      "         [-0.6300, -0.0632,  0.6202,  0.3860],\n",
      "         [-0.5675, -0.0843,  0.5478,  0.3589],\n",
      "         [-0.5526, -0.0981,  0.5321,  0.3428],\n",
      "         [-0.5299, -0.1081,  0.5077,  0.3493]]], grad_fn=<CatBackward0>)\n"
     ]
    }
   ],
   "source": [
    "torch.manual_seed(123)\n",
    "context_length = batch.shape[1]\n",
    "mha = MultiHeadAttentionWrapper(d_in=3, d_out=4, context_length=context_length, num_heads=2, dropout=0.0)\n",
    "z_mha = mha(batch)\n",
    "print(z_mha)"
   ]
  },
  {
   "cell_type": "code",
   "execution_count": null,
   "id": "dd3a70cc",
   "metadata": {},
   "outputs": [
    {
     "data": {
      "text/plain": [
       "tensor([[0., 1., 1., 1.],\n",
       "        [0., 0., 1., 1.],\n",
       "        [0., 0., 0., 1.],\n",
       "        [0., 0., 0., 0.]])"
      ]
     },
     "execution_count": 13,
     "metadata": {},
     "output_type": "execute_result"
    }
   ],
   "source": [
    "# tmp_data = torch.arange(0, 2*3*5*4)\n",
    "# tmp_k = tmp_data.view(2, 3, 5*4)\n",
    "# print(tmp_k.shape)\n",
    "# tmp_q = tmp_k\n",
    "# tmp_v = tmp_k\n",
    "# tmp_k = tmp_k.view(2,3,5,4)\n",
    "# print(tmp_k.shape)\n",
    "# tmp_q = tmp_q.view(2,3,5,4)\n",
    "# tmp_v = tmp_v.view(2,3,5,4)\n",
    "# # print(tmp_q.shape)\n",
    "# # print(tmp_v.shape)\n",
    "# tmp_k = tmp_k.transpose(1,2)\n",
    "# print(tmp_k.shape)\n",
    "# tmp_q = tmp_q.transpose(1,2)\n",
    "# tmp_v = tmp_v.transpose(1,2)\n",
    "# print(\"tmp_q shape after transpose:\", tmp_q.shape)\n",
    "# # print(tmp_v.shape)\n",
    "# tmp_attn_scores = tmp_q @ tmp_k.transpose(-1, -2)\n",
    "# print(tmp_attn_scores.shape)\n",
    "\n",
    "torch.triu(torch.ones(4,4), diagonal=1)"
   ]
  },
  {
   "cell_type": "code",
   "execution_count": null,
   "id": "947a11d8",
   "metadata": {},
   "outputs": [],
   "source": [
    "class MultiHeadAttention(nn.Module):\n",
    "    def __init__(self, d_in, d_out, context_length, dropout=0.1, num_heads=1, qkv_bias=False):\n",
    "        assert (d_out % num_heads == 0), \"d_out must be divisiable by num_heads\"\n",
    "        super().__init__()\n",
    "        self.d_in = d_in\n",
    "        self.num_heads = num_heads\n",
    "        self.d_head = d_out // num_heads\n",
    "        self.w_q = nn.Linear(d_in, d_out, bias=qkv_bias)\n",
    "        self.w_k = nn.Linear(d_in, d_out, bias=qkv_bias)\n",
    "        self.w_v = nn.Linear(d_in, d_out, bias=qkv_bias)\n",
    "        self.out_proj = nn.Linear(d_out, d_out)\n",
    "        self.dropout = nn.Dropout(dropout)\n",
    "        self.register_buffer(\"mask\", torch.triu(torch.ones(context_length, context_length), diagonal=1))\n",
    "        \n",
    "    def forward(self, x):\n",
    "        import math\n",
    "        \n",
    "        q = self.w_q(x)\n",
    "        k = self.w_k(x)\n",
    "        v = self.w_v(x)\n",
    "        \n",
    "        b, context_length, d_out = q.shape\n",
    "        split_view = lambda x: x.view(b, context_length, self.num_heads, self.d_head)\\\n",
    "            .transpose(1, 2)\n",
    "        q = split_view(q)\n",
    "        k = split_view(k)\n",
    "        v = split_view(v)\n",
    "        \n",
    "        attn_scores = q @ k.transpose(-1, -2) / math.sqrt(k.shape[-1])\n",
    "        attn_scores.masked_fill_(self.mask.bool(), -torch.inf)\n",
    "        weight = torch.softmax(attn_scores, dim=-1)\n",
    "        weight = self.dropout(weight)\n",
    "        \n",
    "        z = weight @ v\n",
    "        z = z.transpose(1, 2).contiguous().view(b, context_length, d_out)\n",
    "        z = self.out_proj(z)\n",
    "        return z\n",
    "        "
   ]
  },
  {
   "cell_type": "code",
   "execution_count": null,
   "id": "a10e6b02",
   "metadata": {},
   "outputs": [
    {
     "name": "stdout",
     "output_type": "stream",
     "text": [
      "tensor([[[ 0.1184,  0.3120, -0.0847, -0.5774],\n",
      "         [ 0.0178,  0.3221, -0.0763, -0.4225],\n",
      "         [-0.0147,  0.3259, -0.0734, -0.3721],\n",
      "         [-0.0116,  0.3138, -0.0708, -0.3624],\n",
      "         [-0.0117,  0.2973, -0.0698, -0.3543],\n",
      "         [-0.0132,  0.2990, -0.0689, -0.3490]],\n",
      "\n",
      "        [[ 0.1184,  0.3120, -0.0847, -0.5774],\n",
      "         [ 0.0178,  0.3221, -0.0763, -0.4225],\n",
      "         [-0.0147,  0.3259, -0.0734, -0.3721],\n",
      "         [-0.0116,  0.3138, -0.0708, -0.3624],\n",
      "         [-0.0117,  0.2973, -0.0698, -0.3543],\n",
      "         [-0.0132,  0.2990, -0.0689, -0.3490]]], grad_fn=<ViewBackward0>)\n"
     ]
    }
   ],
   "source": [
    "torch.manual_seed(123)\n",
    "context_length = batch.shape[1]\n",
    "mha = MultiHeadAttention(d_in=3, d_out=4, context_length=context_length, num_heads=2, dropout=0.0)\n",
    "z_mha = mha(batch)\n",
    "print(z_mha)"
   ]
  },
  {
   "cell_type": "code",
   "execution_count": null,
   "id": "20c809c3",
   "metadata": {},
   "outputs": [
    {
     "name": "stdout",
     "output_type": "stream",
     "text": [
      "tensor([[[0.3190, 0.4858],\n",
      "         [0.2941, 0.3906],\n",
      "         [0.2854, 0.3600],\n",
      "         [0.2692, 0.3879],\n",
      "         [0.2636, 0.3935],\n",
      "         [0.2574, 0.4033]],\n",
      "\n",
      "        [[0.3190, 0.4858],\n",
      "         [0.2941, 0.3906],\n",
      "         [0.2854, 0.3600],\n",
      "         [0.2692, 0.3879],\n",
      "         [0.2636, 0.3935],\n",
      "         [0.2574, 0.4033]]], grad_fn=<ViewBackward0>)\n",
      "context_vecs.shape: torch.Size([2, 6, 2])\n"
     ]
    }
   ],
   "source": [
    "torch.manual_seed(123)\n",
    "batch_size, context_length, d_in = batch.shape\n",
    "d_out = 2\n",
    "mha = MultiHeadAttention(d_in, d_out, context_length, 0.0, num_heads=2)\n",
    "context_vecs = mha(batch)\n",
    "print(context_vecs)\n",
    "print(\"context_vecs.shape:\", context_vecs.shape)"
   ]
  }
 ],
 "metadata": {
  "kernelspec": {
   "display_name": "llm",
   "language": "python",
   "name": "python3"
  },
  "language_info": {
   "codemirror_mode": {
    "name": "ipython",
    "version": 3
   },
   "file_extension": ".py",
   "mimetype": "text/x-python",
   "name": "python",
   "nbconvert_exporter": "python",
   "pygments_lexer": "ipython3",
   "version": "3.13.5"
  }
 },
 "nbformat": 4,
 "nbformat_minor": 5
}
